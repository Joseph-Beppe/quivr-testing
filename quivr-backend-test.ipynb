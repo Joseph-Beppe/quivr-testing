{
 "cells": [
  {
   "cell_type": "markdown",
   "metadata": {},
   "source": [
    "# Quivr Backend Test"
   ]
  },
  {
   "cell_type": "code",
   "execution_count": null,
   "metadata": {
    "vscode": {
     "languageId": "shellscript"
    }
   },
   "outputs": [],
   "source": [
    "pip install requests"
   ]
  },
  {
   "cell_type": "code",
   "execution_count": null,
   "metadata": {},
   "outputs": [],
   "source": [
    "import requests\n",
    "import json\n",
    "\n",
    "url = 'http://localhost:5050'\n",
    "api_key = '5c1751e8a3ae10bae3b9207fce9aba53'\n",
    "headers = {'Authorization': f'Bearer {api_key}'}\n",
    "\n",
    "r = requests.get(f\"{url}/healthz\", headers=headers)\n",
    "print(r.text)\n",
    "\n",
    "r = requests.get(f\"{url}/chat/healthz\", headers=headers)\n",
    "print(r.text)"
   ]
  },
  {
   "cell_type": "markdown",
   "metadata": {},
   "source": [
    "## Brain"
   ]
  },
  {
   "cell_type": "code",
   "execution_count": null,
   "metadata": {},
   "outputs": [],
   "source": [
    "data = {\n",
    "    \"name\": \"Backend Brain\",\n",
    "    \"description\": \"Brain created through API\",\n",
    "    \"status\": \"private\"\n",
    "}\n",
    "\n",
    "r = requests.post(f\"{url}/brains\", headers=headers, json=data)\n",
    "print(r.text)\n",
    "\n",
    "brain_id = r.json()['id']"
   ]
  },
  {
   "cell_type": "code",
   "execution_count": null,
   "metadata": {},
   "outputs": [],
   "source": [
    "r = requests.get(f\"{url}/brains\", headers=headers)\n",
    "print(json.dumps(r.json(), indent=4))"
   ]
  },
  {
   "cell_type": "code",
   "execution_count": null,
   "metadata": {},
   "outputs": [],
   "source": [
    "r = requests.get(f\"{url}/brains/{brain_id}\", headers=headers)\n",
    "print(json.dumps(r.json(), indent=4))"
   ]
  },
  {
   "cell_type": "markdown",
   "metadata": {},
   "source": [
    "## Knowledge"
   ]
  },
  {
   "cell_type": "code",
   "execution_count": null,
   "metadata": {},
   "outputs": [],
   "source": [
    "params = {\"brain_id\": f\"{brain_id}\"}\n",
    "file = {\"uploadFile\": open('10K-2022-apple.pdf', 'rb')}\n",
    "\n",
    "r = requests.post(f\"{url}/upload\", params=params, headers=headers, files=file)\n",
    "print(r.text)"
   ]
  },
  {
   "cell_type": "code",
   "execution_count": null,
   "metadata": {},
   "outputs": [],
   "source": [
    "r = requests.get(f\"{url}/knowledge\", params=params, headers=headers)\n",
    "print(json.dumps(r.json(), indent=4))"
   ]
  },
  {
   "cell_type": "markdown",
   "metadata": {},
   "source": [
    "## Chat"
   ]
  },
  {
   "cell_type": "code",
   "execution_count": null,
   "metadata": {},
   "outputs": [],
   "source": [
    "data = {\"name\": \"10K 2022\"}\n",
    "\n",
    "r = requests.post(f\"{url}/chat\", headers=headers, json=data)\n",
    "print(json.dumps(r.json(), indent=4))\n",
    "\n",
    "chat_id = r.json()['chat_id']"
   ]
  },
  {
   "cell_type": "code",
   "execution_count": null,
   "metadata": {},
   "outputs": [],
   "source": [
    "data = {\"question\": \"What are you?\"}\n",
    "\n",
    "r = requests.post(f\"{url}/chat/{chat_id}/question\", params=params, headers=headers, json=data)\n",
    "#print(r.json()['user_message'])\n",
    "print(r.json()['assistant'])"
   ]
  },
  {
   "cell_type": "code",
   "execution_count": null,
   "metadata": {},
   "outputs": [],
   "source": [
    "data = {\"question\": \"How did Apple do in 2022?\"}\n",
    "\n",
    "r = requests.post(f\"{url}/chat/{chat_id}/question\", params=params, headers=headers, json=data)\n",
    "print(r.json()['assistant'])"
   ]
  },
  {
   "cell_type": "code",
   "execution_count": null,
   "metadata": {},
   "outputs": [],
   "source": [
    "data = {\"question\": \"How long does Apple use its internal software?\"}\n",
    "\n",
    "r = requests.post(f\"{url}/chat/{chat_id}/question\", params=params, headers=headers, json=data)\n",
    "print(r.json()['assistant'])"
   ]
  },
  {
   "cell_type": "code",
   "execution_count": null,
   "metadata": {},
   "outputs": [],
   "source": [
    "data = {\"question\": \"How is software for internal use depreciated?\"}\n",
    "\n",
    "r = requests.post(f\"{url}/chat/{chat_id}/question\", params=params, headers=headers, json=data)\n",
    "print(r.json()['assistant'])"
   ]
  },
  {
   "cell_type": "code",
   "execution_count": null,
   "metadata": {},
   "outputs": [],
   "source": [
    "data = {\"question\": \"How long is the useful life of internal software?\"}\n",
    "\n",
    "r = requests.post(f\"{url}/chat/{chat_id}/question\", params=params, headers=headers, json=data)\n",
    "print(r.json()['assistant'])"
   ]
  },
  {
   "cell_type": "code",
   "execution_count": null,
   "metadata": {},
   "outputs": [],
   "source": [
    "r = requests.get(f\"{url}/chat/{chat_id}/history\", params=params, headers=headers)\n",
    "print(json.dumps(r.json(), indent=4))"
   ]
  }
 ],
 "metadata": {
  "kernelspec": {
   "display_name": "Python 3",
   "language": "python",
   "name": "python3"
  },
  "language_info": {
   "codemirror_mode": {
    "name": "ipython",
    "version": 3
   },
   "file_extension": ".py",
   "mimetype": "text/x-python",
   "name": "python",
   "nbconvert_exporter": "python",
   "pygments_lexer": "ipython3",
   "version": "3.11.5"
  }
 },
 "nbformat": 4,
 "nbformat_minor": 2
}
